{
 "cells": [
  {
   "cell_type": "markdown",
   "metadata": {},
   "source": [
    "# Film Recommendation: Algorithm"
   ]
  },
  {
   "cell_type": "markdown",
   "metadata": {},
   "source": [
    "We have the following measures for estimation of time complexity:\n",
    "- O(f) - Number of all friends; \n",
    "- O(v) - Number of all viewed movies by all the friends;\n",
    "- O(m) - Number of all movies;\n",
    "- O(s) - Number of pairs of similar movies;"
   ]
  },
  {
   "cell_type": "code",
   "execution_count": 140,
   "metadata": {},
   "outputs": [],
   "source": [
    "# Importing necessary modules\n",
    "from math import inf\n",
    "\n",
    "\n",
    "# Declaring global variables\n",
    "friends_movies = {}\n",
    "movies_count = {}\n",
    "similar_movies = {}\n",
    "movies_similarities = {}\n",
    "similar_count = {}\n",
    "movie_ratings = {}\n",
    "\n",
    "\n",
    "def refresh_variables(): # refreshing global variables to avoid errors\n",
    "    global friends_movies, movies_count, similar_movies, movies_similarities, similar_count, movie_ratings, recommendation\n",
    "    friends_movies = {}\n",
    "    movies_count = {}\n",
    "    similar_movies = {}\n",
    "    movies_similarities = {}\n",
    "    similar_count = {}\n",
    "    movie_ratings = {}\n",
    "\n",
    "\n",
    "def create_dict_fm(friends): # creates friends_movies dictionary in O(f)\n",
    "    \n",
    "    for friend in friends: \n",
    "        friend_movies = set()\n",
    "        exec('global friends_movies; friends_movies[friend] = eval(friend)') # O(fm)\n",
    "    \n",
    "    return friends_movies\n",
    "\n",
    "\n",
    "def count_views(): # counts number of views of each movie in O(v) \n",
    "    friends_movies = create_dict_fm(friends)\n",
    "\n",
    "    for key, value in friends_movies.items():\n",
    "        for movie in value:\n",
    "            movies_count.setdefault(movie, 0)\n",
    "            movies_count[movie] += 1\n",
    "\n",
    "\n",
    "def dfs(movie, component): # DFS algorithm implementation along with counting the views and movies in each component\n",
    "    similar_movies[movie] = component\n",
    "    similar_count.setdefault(component, [0, 0])\n",
    "    similar_count[component][0] += movies_count[movie]\n",
    "    similar_count[component][1] += 1\n",
    "    \n",
    "    for movie2 in movies_similarities[movie]:\n",
    "        if type(similar_movies[movie2]) is not int:\n",
    "            dfs(movie2, component)\n",
    "\n",
    "            \n",
    "def find_similarities(): # transforming edge list to adjacency list and calling DFS algorithm from each movie in O(s+m)\n",
    "\n",
    "    for similarity in similarities:\n",
    "        movies_similarities.setdefault(similarity[0], set())\n",
    "        movies_similarities.setdefault(similarity[1], set())\n",
    "        movies_similarities[similarity[0]].add(similarity[1])\n",
    "        movies_similarities[similarity[1]].add(similarity[0])\n",
    "        \n",
    "    component = 0\n",
    "    \n",
    "    for movie in movies_similarities:\n",
    "        if type(similar_movies[movie]) is not int:\n",
    "            dfs(movie, component)\n",
    "            component += 1\n",
    "\n",
    "\n",
    "def recommend_movie(movies, similarities, friends): # calculation of F_S ratio and returning movie with max ratio in O(m)\n",
    "    \n",
    "    # checking data completeness\n",
    "    if len(movies) < 1 or len(friends) < 1 or len(similarities) < 1: \n",
    "        return 'Not enough data to make recommendation'\n",
    "    \n",
    "    refresh_variables() # calling function to reset all global variables\n",
    "    \n",
    "    # declaring local variables\n",
    "    recommendation = set()\n",
    "    max_f_s = 0\n",
    "    for movie in movies: # \n",
    "        similar_movies[movie] = False\n",
    "        movies_count.setdefault(movie, 0)\n",
    "    \n",
    "    count_views() # calling function for counting of views for each movie\n",
    "    find_similarities() # calling function for finding similarities\n",
    "    \n",
    "    # calculation of F_S ratio for each movie\n",
    "    for movie in movies:\n",
    "        f = movies_count[movie]\n",
    "        if type(similar_movies[movie]) is int:\n",
    "            s = (similar_count[similar_movies[movie]][0] - f) / (similar_count[similar_movies[movie]][1] - 1)\n",
    "            if s != 0:\n",
    "                f_s_ratio = f / s\n",
    "            else:\n",
    "                f_s_ratio = -inf\n",
    "        else:\n",
    "            f_s_ratio = -inf\n",
    "\n",
    "        movie_ratings[movie] = f_s_ratio\n",
    "        if f_s_ratio > max_f_s:\n",
    "            max_f_s = f_s_ratio\n",
    "            recommendation = set()\n",
    "            recommendation.add(movie)\n",
    "        elif f_s_ratio == max_f_s:\n",
    "            recommendation.add(movie)            \n",
    "    \n",
    "    # returning recommended movie(s)\n",
    "    if len(recommendation) > 1:        \n",
    "        return recommendation\n",
    "    elif len(recommendation) == 1:\n",
    "        return recommendation.pop()\n",
    "    else:\n",
    "        return 'Not enough data to make recommendation'\n",
    "        "
   ]
  },
  {
   "cell_type": "code",
   "execution_count": 141,
   "metadata": {},
   "outputs": [
    {
     "data": {
      "text/plain": [
       "'Not enough data to make recommendation'"
      ]
     },
     "execution_count": 141,
     "metadata": {},
     "output_type": "execute_result"
    }
   ],
   "source": [
    "# Check on unit test 1\n",
    "movies = ['X men', 'Avengers', 'The Internship', 'Psycho', 'Batman', 'Social Network']\n",
    "similarities = []\n",
    "friends = ['Alice', 'Ben', 'Charlie']\n",
    "Alice = ['X men', 'Batman', 'Social Network', 'Psycho']\n",
    "Ben = ['Batman', 'Social Network', 'Avengers', 'The Internship']\n",
    "Charlie = ['Batman', 'Avengers', 'Psycho']\n",
    "\n",
    "recommend_movie(movies, similarities, friends)"
   ]
  },
  {
   "cell_type": "code",
   "execution_count": 142,
   "metadata": {},
   "outputs": [
    {
     "data": {
      "text/plain": [
       "'Not enough data to make recommendation'"
      ]
     },
     "execution_count": 142,
     "metadata": {},
     "output_type": "execute_result"
    }
   ],
   "source": [
    "# Check on unit test 2\n",
    "movies = []\n",
    "similarities = [('X men', 'Avengers'), ('The Internship', 'Social Network'), ('Avengers', 'Batman')]\n",
    "friends = ['Alice', 'Ben', 'Charlie']\n",
    "Alice = ['X men', 'Batman', 'Social Network', 'Psycho']\n",
    "Ben = ['Batman', 'Social Network', 'Avengers', 'The Internship']\n",
    "Charlie = ['Batman', 'Avengers', 'Psycho']\n",
    "\n",
    "recommend_movie(movies, similarities, friends)"
   ]
  },
  {
   "cell_type": "code",
   "execution_count": 143,
   "metadata": {},
   "outputs": [
    {
     "data": {
      "text/plain": [
       "'Not enough data to make recommendation'"
      ]
     },
     "execution_count": 143,
     "metadata": {},
     "output_type": "execute_result"
    }
   ],
   "source": [
    "# Check on unit test 3\n",
    "from math import inf\n",
    "\n",
    "movies = ['X men', 'Avengers', 'The Internship', 'Psycho', 'Batman', 'Social Network']\n",
    "similarities = [('X men', 'Avengers'), ('The Internship', 'Social Network'), ('Avengers', 'Batman')]\n",
    "friends = []\n",
    "Alice = ['X men', 'Batman', 'Social Network', 'Psycho']\n",
    "Ben = ['Batman', 'Social Network', 'Avengers', 'The Internship']\n",
    "Charlie = ['Batman', 'Avengers', 'Psycho']\n",
    "\n",
    "recommend_movie(movies, similarities, friends)"
   ]
  },
  {
   "cell_type": "code",
   "execution_count": 144,
   "metadata": {},
   "outputs": [
    {
     "data": {
      "text/plain": [
       "'Batman'"
      ]
     },
     "execution_count": 144,
     "metadata": {},
     "output_type": "execute_result"
    }
   ],
   "source": [
    "# Check on unit test 4\n",
    "from math import inf\n",
    "\n",
    "movies = ['X men', 'Avengers', 'The Internship', 'Psycho', 'Batman', 'Social Network']\n",
    "similarities = [('X men', 'Avengers'), ('The Internship', 'Social Network'), ('Avengers', 'Batman')]\n",
    "friends = ['Alice', 'Charlie']\n",
    "Alice = ['X men', 'Batman', 'Social Network', 'Psycho']\n",
    "Ben = ['Batman', 'Social Network', 'Avengers', 'The Internship']\n",
    "Charlie = ['Batman', 'Avengers', 'Psycho']\n",
    "\n",
    "recommend_movie(movies, similarities, friends)"
   ]
  },
  {
   "cell_type": "code",
   "execution_count": 145,
   "metadata": {},
   "outputs": [
    {
     "data": {
      "text/plain": [
       "{'Avengers', 'Batman'}"
      ]
     },
     "execution_count": 145,
     "metadata": {},
     "output_type": "execute_result"
    }
   ],
   "source": [
    "# Check on unit test 5\n",
    "from math import inf\n",
    "\n",
    "movies = ['X men', 'Avengers', 'The Internship', 'Psycho', 'Batman', 'Social Network']\n",
    "similarities = [('X men', 'Avengers'), ('The Internship', 'Social Network'), ('Avengers', 'Batman')]\n",
    "friends = ['Alice', 'Ben', 'Charlie']\n",
    "Alice = []\n",
    "Ben = ['Batman', 'Social Network', 'Avengers', 'The Internship']\n",
    "Charlie = ['Batman', 'Avengers', 'Psycho']\n",
    "\n",
    "recommend_movie(movies, similarities, friends)"
   ]
  },
  {
   "cell_type": "code",
   "execution_count": 139,
   "metadata": {},
   "outputs": [
    {
     "data": {
      "text/plain": [
       "{'Batman', 'Social Network'}"
      ]
     },
     "execution_count": 139,
     "metadata": {},
     "output_type": "execute_result"
    }
   ],
   "source": [
    "# Check on unit test 6\n",
    "from math import inf\n",
    "\n",
    "movies = ['X men', 'Avengers', 'The Internship', 'Psycho', 'Batman', 'Social Network']\n",
    "similarities = [('X men', 'Avengers'), ('The Internship', 'Social Network'), ('Avengers', 'Batman')]\n",
    "friends = ['Alice', 'Ben', 'Charlie']\n",
    "Alice = ['X men', 'Batman', 'Social Network', 'Psycho']\n",
    "Ben = ['Batman', 'Social Network', 'Avengers', 'The Internship']\n",
    "Charlie = ['Batman', 'Avengers', 'Psycho']\n",
    "\n",
    "recommend_movie(movies, similarities, friends)"
   ]
  }
 ],
 "metadata": {
  "kernelspec": {
   "display_name": "Python 3",
   "language": "python",
   "name": "python3"
  },
  "language_info": {
   "codemirror_mode": {
    "name": "ipython",
    "version": 3
   },
   "file_extension": ".py",
   "mimetype": "text/x-python",
   "name": "python",
   "nbconvert_exporter": "python",
   "pygments_lexer": "ipython3",
   "version": "3.8.5"
  }
 },
 "nbformat": 4,
 "nbformat_minor": 4
}

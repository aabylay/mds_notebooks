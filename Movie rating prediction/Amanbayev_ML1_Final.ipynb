{
 "cells": [
  {
   "cell_type": "code",
   "execution_count": 142,
   "metadata": {},
   "outputs": [],
   "source": [
    "import numpy as np\n",
    "import pandas as pd"
   ]
  },
  {
   "cell_type": "markdown",
   "metadata": {},
   "source": [
    "This is a template for your final project. "
   ]
  },
  {
   "cell_type": "code",
   "execution_count": 143,
   "metadata": {},
   "outputs": [
    {
     "data": {
      "text/html": [
       "<div>\n",
       "<style scoped>\n",
       "    .dataframe tbody tr th:only-of-type {\n",
       "        vertical-align: middle;\n",
       "    }\n",
       "\n",
       "    .dataframe tbody tr th {\n",
       "        vertical-align: top;\n",
       "    }\n",
       "\n",
       "    .dataframe thead th {\n",
       "        text-align: right;\n",
       "    }\n",
       "</style>\n",
       "<table border=\"1\" class=\"dataframe\">\n",
       "  <thead>\n",
       "    <tr style=\"text-align: right;\">\n",
       "      <th></th>\n",
       "      <th>imdb_title_id</th>\n",
       "      <th>title</th>\n",
       "      <th>original_title</th>\n",
       "      <th>year</th>\n",
       "      <th>date_published</th>\n",
       "      <th>genre</th>\n",
       "      <th>duration</th>\n",
       "      <th>country</th>\n",
       "      <th>language</th>\n",
       "      <th>director</th>\n",
       "      <th>...</th>\n",
       "      <th>actors</th>\n",
       "      <th>description</th>\n",
       "      <th>avg_vote</th>\n",
       "      <th>votes</th>\n",
       "      <th>budget</th>\n",
       "      <th>usa_gross_income</th>\n",
       "      <th>worlwide_gross_income</th>\n",
       "      <th>metascore</th>\n",
       "      <th>reviews_from_users</th>\n",
       "      <th>reviews_from_critics</th>\n",
       "    </tr>\n",
       "  </thead>\n",
       "  <tbody>\n",
       "    <tr>\n",
       "      <th>0</th>\n",
       "      <td>tt0000574</td>\n",
       "      <td>The Story of the Kelly Gang</td>\n",
       "      <td>The Story of the Kelly Gang</td>\n",
       "      <td>1906</td>\n",
       "      <td>1906-12-26</td>\n",
       "      <td>Biography, Crime, Drama</td>\n",
       "      <td>70</td>\n",
       "      <td>Australia</td>\n",
       "      <td>NaN</td>\n",
       "      <td>Charles Tait</td>\n",
       "      <td>...</td>\n",
       "      <td>Elizabeth Tait, John Tait, Norman Campbell, Be...</td>\n",
       "      <td>True story of notorious Australian outlaw Ned ...</td>\n",
       "      <td>6.1</td>\n",
       "      <td>537</td>\n",
       "      <td>$ 2250</td>\n",
       "      <td>NaN</td>\n",
       "      <td>NaN</td>\n",
       "      <td>NaN</td>\n",
       "      <td>7.0</td>\n",
       "      <td>7.0</td>\n",
       "    </tr>\n",
       "    <tr>\n",
       "      <th>1</th>\n",
       "      <td>tt0001892</td>\n",
       "      <td>Den sorte drøm</td>\n",
       "      <td>Den sorte drøm</td>\n",
       "      <td>1911</td>\n",
       "      <td>1911-08-19</td>\n",
       "      <td>Drama</td>\n",
       "      <td>53</td>\n",
       "      <td>Germany, Denmark</td>\n",
       "      <td>NaN</td>\n",
       "      <td>Urban Gad</td>\n",
       "      <td>...</td>\n",
       "      <td>Asta Nielsen, Valdemar Psilander, Gunnar Helse...</td>\n",
       "      <td>Two men of high rank are both wooing the beaut...</td>\n",
       "      <td>5.9</td>\n",
       "      <td>171</td>\n",
       "      <td>NaN</td>\n",
       "      <td>NaN</td>\n",
       "      <td>NaN</td>\n",
       "      <td>NaN</td>\n",
       "      <td>4.0</td>\n",
       "      <td>2.0</td>\n",
       "    </tr>\n",
       "    <tr>\n",
       "      <th>2</th>\n",
       "      <td>tt0002101</td>\n",
       "      <td>Cleopatra</td>\n",
       "      <td>Cleopatra</td>\n",
       "      <td>1912</td>\n",
       "      <td>1912-11-13</td>\n",
       "      <td>Drama, History</td>\n",
       "      <td>100</td>\n",
       "      <td>USA</td>\n",
       "      <td>English</td>\n",
       "      <td>Charles L. Gaskill</td>\n",
       "      <td>...</td>\n",
       "      <td>Helen Gardner, Pearl Sindelar, Miss Fielding, ...</td>\n",
       "      <td>The fabled queen of Egypt's affair with Roman ...</td>\n",
       "      <td>5.2</td>\n",
       "      <td>420</td>\n",
       "      <td>$ 45000</td>\n",
       "      <td>NaN</td>\n",
       "      <td>NaN</td>\n",
       "      <td>NaN</td>\n",
       "      <td>24.0</td>\n",
       "      <td>3.0</td>\n",
       "    </tr>\n",
       "  </tbody>\n",
       "</table>\n",
       "<p>3 rows × 22 columns</p>\n",
       "</div>"
      ],
      "text/plain": [
       "  imdb_title_id                        title               original_title  \\\n",
       "0     tt0000574  The Story of the Kelly Gang  The Story of the Kelly Gang   \n",
       "1     tt0001892               Den sorte drøm               Den sorte drøm   \n",
       "2     tt0002101                    Cleopatra                    Cleopatra   \n",
       "\n",
       "   year date_published                    genre  duration           country  \\\n",
       "0  1906     1906-12-26  Biography, Crime, Drama        70         Australia   \n",
       "1  1911     1911-08-19                    Drama        53  Germany, Denmark   \n",
       "2  1912     1912-11-13           Drama, History       100               USA   \n",
       "\n",
       "  language            director  ...  \\\n",
       "0      NaN        Charles Tait  ...   \n",
       "1      NaN           Urban Gad  ...   \n",
       "2  English  Charles L. Gaskill  ...   \n",
       "\n",
       "                                              actors  \\\n",
       "0  Elizabeth Tait, John Tait, Norman Campbell, Be...   \n",
       "1  Asta Nielsen, Valdemar Psilander, Gunnar Helse...   \n",
       "2  Helen Gardner, Pearl Sindelar, Miss Fielding, ...   \n",
       "\n",
       "                                         description avg_vote votes   budget  \\\n",
       "0  True story of notorious Australian outlaw Ned ...      6.1   537   $ 2250   \n",
       "1  Two men of high rank are both wooing the beaut...      5.9   171      NaN   \n",
       "2  The fabled queen of Egypt's affair with Roman ...      5.2   420  $ 45000   \n",
       "\n",
       "   usa_gross_income worlwide_gross_income metascore reviews_from_users  \\\n",
       "0               NaN                   NaN       NaN                7.0   \n",
       "1               NaN                   NaN       NaN                4.0   \n",
       "2               NaN                   NaN       NaN               24.0   \n",
       "\n",
       "   reviews_from_critics  \n",
       "0                   7.0  \n",
       "1                   2.0  \n",
       "2                   3.0  \n",
       "\n",
       "[3 rows x 22 columns]"
      ]
     },
     "execution_count": 143,
     "metadata": {},
     "output_type": "execute_result"
    }
   ],
   "source": [
    "full_dataset = pd.read_csv('IMDb movies.csv')\n",
    "full_dataset.head(3)"
   ]
  },
  {
   "cell_type": "markdown",
   "metadata": {},
   "source": [
    "### Part 1.\n",
    "\n",
    "Task formalization and Evaluation criteria\n",
    "\n",
    "1.1 Select your target variable, explain your choice. Separate target variable from the feature matrix."
   ]
  },
  {
   "cell_type": "markdown",
   "metadata": {},
   "source": [
    "**Answer:** Let's select the all variables that can be potentially used a success metrics of the movie and make analysis of each of them. Those will be the variables that are out of production company's control. We can't use these variables to train our model, because it is impossible to know them before releasing a movie. Here is the list of such variables, lets call it potential target variables list:\n",
    "\n",
    "- avg_vote\n",
    "- votes\n",
    "- usa_gross_income\n",
    "- worlwide_gross_income\n",
    "- metascore\n",
    "- reviews_from_users\n",
    "- reviews_from_critics"
   ]
  },
  {
   "cell_type": "code",
   "execution_count": 144,
   "metadata": {},
   "outputs": [
    {
     "data": {
      "text/plain": [
       "avg_vote                  0.000000\n",
       "votes                     0.000000\n",
       "usa_gross_income         80.245191\n",
       "worlwide_gross_income    68.211568\n",
       "metascore                85.361640\n",
       "reviews_from_users        6.759361\n",
       "reviews_from_critics     13.669889\n",
       "dtype: float64"
      ]
     },
     "execution_count": 144,
     "metadata": {},
     "output_type": "execute_result"
    }
   ],
   "source": [
    "ptv_list = ['avg_vote', 'votes', 'usa_gross_income', 'worlwide_gross_income',\n",
    "            'metascore', 'reviews_from_users', 'reviews_from_critics']\n",
    "\n",
    "full_dataset[ptv_list].isna().sum() / full_dataset.shape[0] * 100"
   ]
  },
  {
   "cell_type": "code",
   "execution_count": 145,
   "metadata": {},
   "outputs": [
    {
     "data": {
      "text/plain": [
       "100"
      ]
     },
     "execution_count": 145,
     "metadata": {},
     "output_type": "execute_result"
    }
   ],
   "source": [
    "full_dataset.votes.value_counts().index.min()"
   ]
  },
  {
   "cell_type": "markdown",
   "metadata": {},
   "source": [
    "Our dataset contains a lot of missing values for income columns and some missing values for review columns. Thus, we can't use them as target variables.\n",
    "\n",
    "Thus, we will choose as our target variable the movie rating, which we can find in column **avg_vote**. Number of votes is not very important for us, because it says nothing about movie quality. However, from vote column we see that each movie's rating was calculated on at least 100 votes, so it makes avg_vote column even more valuable.\n",
    "\n",
    "**Note.** I guess in real life it would depend on preferences of client and subject of target variable is subject of discussion with client. In fact, we could use income / budget ratio or other income related variables as target, getting rid of examples without such data, if it was crucially important for our client. For the sake of simplicity and in order to use as much data as possible I chose Average_vote as target variable."
   ]
  },
  {
   "cell_type": "markdown",
   "metadata": {},
   "source": [
    "1.2 Explain which task are you going to solve (is it a regression, classification or something else)? "
   ]
  },
  {
   "cell_type": "markdown",
   "metadata": {},
   "source": [
    "Let's look at the range, in which our target variable lies."
   ]
  },
  {
   "cell_type": "code",
   "execution_count": 146,
   "metadata": {},
   "outputs": [
    {
     "data": {
      "text/plain": [
       "<BarContainer object of 89 artists>"
      ]
     },
     "execution_count": 146,
     "metadata": {},
     "output_type": "execute_result"
    },
    {
     "data": {
      "image/png": "[encoded data removed]",
      "text/plain": [
       "<Figure size 432x288 with 1 Axes>"
      ]
     },
     "metadata": {
      "needs_background": "light"
     },
     "output_type": "display_data"
    }
   ],
   "source": [
    "import matplotlib.pyplot as plt\n",
    "\n",
    "a = full_dataset.avg_vote.value_counts()\n",
    "plt.bar(a.index, a.values)"
   ]
  },
  {
   "cell_type": "markdown",
   "metadata": {},
   "source": [
    "Here we see that it is movie rating is an float number between 0 and 10, so we can should solve regression task."
   ]
  },
  {
   "cell_type": "markdown",
   "metadata": {},
   "source": [
    "1.3 Select a metric. Is it already implemented in sklearn? If yes, import it. If not, it is time to write a function which will calculate it."
   ]
  },
  {
   "cell_type": "markdown",
   "metadata": {},
   "source": [
    "We will use mean squared error (MSE) as our metric for our regression task. Let's import it"
   ]
  },
  {
   "cell_type": "code",
   "execution_count": 147,
   "metadata": {},
   "outputs": [],
   "source": [
    "from sklearn.metrics import mean_squared_error as mse"
   ]
  },
  {
   "cell_type": "markdown",
   "metadata": {},
   "source": [
    "### Part 2.\n",
    "\n",
    "Explore and preprocess the data\n",
    "\n",
    "2.1 Split data into train and test"
   ]
  },
  {
   "cell_type": "code",
   "execution_count": 148,
   "metadata": {},
   "outputs": [],
   "source": [
    "# First, we should drop all income-related and metascore columns, \n",
    "# because we identified that share of missing values is too big.\n",
    "full_dataset.drop(['metascore', 'usa_gross_income', 'worlwide_gross_income'], axis=1, inplace=True)"
   ]
  },
  {
   "cell_type": "code",
   "execution_count": 149,
   "metadata": {},
   "outputs": [
    {
     "data": {
      "image/png": "[encoded data removed]",
      "text/plain": [
       "<Figure size 576x216 with 2 Axes>"
      ]
     },
     "metadata": {
      "needs_background": "light"
     },
     "output_type": "display_data"
    }
   ],
   "source": [
    "# We can also drop the columns with number of reviews from users and critics, because they are not informative\n",
    "fig, axs = plt.subplots(1, 2, figsize=(8,3))\n",
    "\n",
    "a = full_dataset.reviews_from_users.value_counts()\n",
    "axs[0].bar(a.index, a.values, align='center')\n",
    "axs[0].set_title('Reviews from users')\n",
    "axs[0].grid()\n",
    "\n",
    "a = full_dataset.reviews_from_critics.value_counts()\n",
    "axs[1].bar(a.index, a.values, align='center')\n",
    "axs[1].set_title('Reviews from critics')\n",
    "axs[1].grid()\n",
    "\n",
    "full_dataset.drop(['reviews_from_critics', 'reviews_from_users'], axis=1, inplace=True)"
   ]
  },
  {
   "cell_type": "code",
   "execution_count": 150,
   "metadata": {},
   "outputs": [],
   "source": [
    "# Columns with movie title, imdb_id and description also don't give us any information about the movie\n",
    "# Thus, we can drop them as well\n",
    "# We can also drop publish date column, because we release year\n",
    "full_dataset.drop(['imdb_title_id', 'title', 'original_title', 'description', 'date_published'], axis=1, inplace=True)"
   ]
  },
  {
   "cell_type": "code",
   "execution_count": 151,
   "metadata": {},
   "outputs": [
    {
     "data": {
      "text/plain": [
       "year                   0.000000\n",
       "genre                  0.000000\n",
       "duration               0.000000\n",
       "country                0.008306\n",
       "language               0.729260\n",
       "director               0.039868\n",
       "writer                 1.342237\n",
       "production_company     4.558291\n",
       "actors                 0.049836\n",
       "avg_vote               0.000000\n",
       "votes                  0.000000\n",
       "budget                72.060534\n",
       "dtype: float64"
      ]
     },
     "execution_count": 151,
     "metadata": {},
     "output_type": "execute_result"
    }
   ],
   "source": [
    "# Here we see, that the share of missing values for budget column is too high, so we drop that column too\n",
    "full_dataset.isna().sum() / full_dataset.shape[0] * 100"
   ]
  },
  {
   "cell_type": "code",
   "execution_count": 152,
   "metadata": {},
   "outputs": [],
   "source": [
    "full_dataset.drop(['budget'], axis=1, inplace=True)"
   ]
  },
  {
   "cell_type": "code",
   "execution_count": 153,
   "metadata": {},
   "outputs": [
    {
     "name": "stdout",
     "output_type": "stream",
     "text": [
      "(25082,)\n"
     ]
    }
   ],
   "source": [
    "# We should also drop the column with actors, because number of unique actors is more than 25 thousands. \n",
    "# Probably we could use top-100 frequent actors, but we still won't cover most part of our database.\n",
    "# If we select more actors our model will be extremely complicated.\n",
    "print(full_dataset.actors.str.split(', ', expand=True)[0].unique().shape)\n",
    "full_dataset.drop(['actors'], axis=1, inplace=True)"
   ]
  },
  {
   "cell_type": "code",
   "execution_count": 154,
   "metadata": {},
   "outputs": [],
   "source": [
    "# Finally we can drop column with numbers of votes, because we already know that each movie has at least 100 votes.\n",
    "full_dataset.drop(['votes'], axis=1, inplace=True)"
   ]
  },
  {
   "cell_type": "code",
   "execution_count": 155,
   "metadata": {},
   "outputs": [],
   "source": [
    "# Let's make a new column for each genre\n",
    "genres = full_dataset.genre.str.split(', ', expand=True)\n",
    "all_genres = set()\n",
    "for i in range(0, genres.shape[1]):\n",
    "    all_genres = all_genres.union(set(genres[i].unique()))\n",
    "all_genres.remove(None)\n",
    "for g in all_genres:\n",
    "    full_dataset[g] = (genres[0] == g) | (genres[1] == g) | (genres[2] == g)\n",
    "\n",
    "full_dataset.drop(['genre'], axis=1, inplace=True)"
   ]
  },
  {
   "cell_type": "code",
   "execution_count": 156,
   "metadata": {},
   "outputs": [],
   "source": [
    "# Some observations in dataset has 2 or more values for columns country, director, writer, production_company.\n",
    "# Let's select only first main value\n",
    "full_dataset.country = full_dataset.country.str.split(', ', expand=True)[0]\n",
    "full_dataset.writer = full_dataset.writer.str.split(', ', expand=True)[0]\n",
    "full_dataset.director = full_dataset.director.str.split(', ', expand=True)[0]\n",
    "full_dataset.production_company = full_dataset.production_company.str.split(', ', expand=True)[0]"
   ]
  },
  {
   "cell_type": "code",
   "execution_count": 157,
   "metadata": {},
   "outputs": [],
   "source": [
    "bool_columns = list(full_dataset.dtypes[full_dataset.dtypes == 'bool'].index)\n",
    "full_dataset[bool_columns] = full_dataset[bool_columns].astype('int')"
   ]
  },
  {
   "cell_type": "code",
   "execution_count": 158,
   "metadata": {},
   "outputs": [],
   "source": [
    "# Now let's split our dataset to training and test sets.\n",
    "from sklearn.model_selection import train_test_split\n",
    "\n",
    "tr, te = train_test_split(full_dataset, test_size=0.2, random_state=42)\n",
    "\n",
    "y_train = tr.avg_vote\n",
    "y_test = te.avg_vote\n",
    "X_train = tr.drop(['avg_vote'], axis=1)\n",
    "X_test = te.drop(['avg_vote'], axis=1)"
   ]
  },
  {
   "cell_type": "markdown",
   "metadata": {},
   "source": [
    "2.2 Explore you data: make plots, print tables. Make sure to write your observations.  Do not forget to fill-in missing values, define relevant columns transformatios. \n"
   ]
  },
  {
   "cell_type": "code",
   "execution_count": 159,
   "metadata": {},
   "outputs": [
    {
     "data": {
      "text/html": [
       "<div>\n",
       "<style scoped>\n",
       "    .dataframe tbody tr th:only-of-type {\n",
       "        vertical-align: middle;\n",
       "    }\n",
       "\n",
       "    .dataframe tbody tr th {\n",
       "        vertical-align: top;\n",
       "    }\n",
       "\n",
       "    .dataframe thead th {\n",
       "        text-align: right;\n",
       "    }\n",
       "</style>\n",
       "<table border=\"1\" class=\"dataframe\">\n",
       "  <thead>\n",
       "    <tr style=\"text-align: right;\">\n",
       "      <th></th>\n",
       "      <th>0</th>\n",
       "      <th>data_types</th>\n",
       "    </tr>\n",
       "  </thead>\n",
       "  <tbody>\n",
       "    <tr>\n",
       "      <th>year</th>\n",
       "      <td>0</td>\n",
       "      <td>int64</td>\n",
       "    </tr>\n",
       "    <tr>\n",
       "      <th>duration</th>\n",
       "      <td>0</td>\n",
       "      <td>int64</td>\n",
       "    </tr>\n",
       "    <tr>\n",
       "      <th>country</th>\n",
       "      <td>5</td>\n",
       "      <td>object</td>\n",
       "    </tr>\n",
       "    <tr>\n",
       "      <th>language</th>\n",
       "      <td>439</td>\n",
       "      <td>object</td>\n",
       "    </tr>\n",
       "    <tr>\n",
       "      <th>director</th>\n",
       "      <td>24</td>\n",
       "      <td>object</td>\n",
       "    </tr>\n",
       "    <tr>\n",
       "      <th>writer</th>\n",
       "      <td>808</td>\n",
       "      <td>object</td>\n",
       "    </tr>\n",
       "    <tr>\n",
       "      <th>production_company</th>\n",
       "      <td>2744</td>\n",
       "      <td>object</td>\n",
       "    </tr>\n",
       "    <tr>\n",
       "      <th>avg_vote</th>\n",
       "      <td>0</td>\n",
       "      <td>float64</td>\n",
       "    </tr>\n",
       "    <tr>\n",
       "      <th>Fantasy</th>\n",
       "      <td>0</td>\n",
       "      <td>int64</td>\n",
       "    </tr>\n",
       "    <tr>\n",
       "      <th>Drama</th>\n",
       "      <td>0</td>\n",
       "      <td>int64</td>\n",
       "    </tr>\n",
       "    <tr>\n",
       "      <th>Film-Noir</th>\n",
       "      <td>0</td>\n",
       "      <td>int64</td>\n",
       "    </tr>\n",
       "    <tr>\n",
       "      <th>Crime</th>\n",
       "      <td>0</td>\n",
       "      <td>int64</td>\n",
       "    </tr>\n",
       "    <tr>\n",
       "      <th>Romance</th>\n",
       "      <td>0</td>\n",
       "      <td>int64</td>\n",
       "    </tr>\n",
       "    <tr>\n",
       "      <th>Comedy</th>\n",
       "      <td>0</td>\n",
       "      <td>int64</td>\n",
       "    </tr>\n",
       "    <tr>\n",
       "      <th>Animation</th>\n",
       "      <td>0</td>\n",
       "      <td>int64</td>\n",
       "    </tr>\n",
       "    <tr>\n",
       "      <th>Adult</th>\n",
       "      <td>0</td>\n",
       "      <td>int64</td>\n",
       "    </tr>\n",
       "    <tr>\n",
       "      <th>Horror</th>\n",
       "      <td>0</td>\n",
       "      <td>int64</td>\n",
       "    </tr>\n",
       "    <tr>\n",
       "      <th>History</th>\n",
       "      <td>0</td>\n",
       "      <td>int64</td>\n",
       "    </tr>\n",
       "    <tr>\n",
       "      <th>Mystery</th>\n",
       "      <td>0</td>\n",
       "      <td>int64</td>\n",
       "    </tr>\n",
       "    <tr>\n",
       "      <th>War</th>\n",
       "      <td>0</td>\n",
       "      <td>int64</td>\n",
       "    </tr>\n",
       "    <tr>\n",
       "      <th>Thriller</th>\n",
       "      <td>0</td>\n",
       "      <td>int64</td>\n",
       "    </tr>\n",
       "    <tr>\n",
       "      <th>Action</th>\n",
       "      <td>0</td>\n",
       "      <td>int64</td>\n",
       "    </tr>\n",
       "    <tr>\n",
       "      <th>Family</th>\n",
       "      <td>0</td>\n",
       "      <td>int64</td>\n",
       "    </tr>\n",
       "    <tr>\n",
       "      <th>Musical</th>\n",
       "      <td>0</td>\n",
       "      <td>int64</td>\n",
       "    </tr>\n",
       "    <tr>\n",
       "      <th>Reality-TV</th>\n",
       "      <td>0</td>\n",
       "      <td>int64</td>\n",
       "    </tr>\n",
       "    <tr>\n",
       "      <th>Adventure</th>\n",
       "      <td>0</td>\n",
       "      <td>int64</td>\n",
       "    </tr>\n",
       "    <tr>\n",
       "      <th>Western</th>\n",
       "      <td>0</td>\n",
       "      <td>int64</td>\n",
       "    </tr>\n",
       "    <tr>\n",
       "      <th>Biography</th>\n",
       "      <td>0</td>\n",
       "      <td>int64</td>\n",
       "    </tr>\n",
       "    <tr>\n",
       "      <th>Documentary</th>\n",
       "      <td>0</td>\n",
       "      <td>int64</td>\n",
       "    </tr>\n",
       "    <tr>\n",
       "      <th>Sport</th>\n",
       "      <td>0</td>\n",
       "      <td>int64</td>\n",
       "    </tr>\n",
       "    <tr>\n",
       "      <th>Sci-Fi</th>\n",
       "      <td>0</td>\n",
       "      <td>int64</td>\n",
       "    </tr>\n",
       "    <tr>\n",
       "      <th>Music</th>\n",
       "      <td>0</td>\n",
       "      <td>int64</td>\n",
       "    </tr>\n",
       "  </tbody>\n",
       "</table>\n",
       "</div>"
      ],
      "text/plain": [
       "                       0 data_types\n",
       "year                   0      int64\n",
       "duration               0      int64\n",
       "country                5     object\n",
       "language             439     object\n",
       "director              24     object\n",
       "writer               808     object\n",
       "production_company  2744     object\n",
       "avg_vote               0    float64\n",
       "Fantasy                0      int64\n",
       "Drama                  0      int64\n",
       "Film-Noir              0      int64\n",
       "Crime                  0      int64\n",
       "Romance                0      int64\n",
       "Comedy                 0      int64\n",
       "Animation              0      int64\n",
       "Adult                  0      int64\n",
       "Horror                 0      int64\n",
       "History                0      int64\n",
       "Mystery                0      int64\n",
       "War                    0      int64\n",
       "Thriller               0      int64\n",
       "Action                 0      int64\n",
       "Family                 0      int64\n",
       "Musical                0      int64\n",
       "Reality-TV             0      int64\n",
       "Adventure              0      int64\n",
       "Western                0      int64\n",
       "Biography              0      int64\n",
       "Documentary            0      int64\n",
       "Sport                  0      int64\n",
       "Sci-Fi                 0      int64\n",
       "Music                  0      int64"
      ]
     },
     "execution_count": 159,
     "metadata": {},
     "output_type": "execute_result"
    }
   ],
   "source": [
    "# Let's see how many missing values do we have in each column and types of each column\n",
    "type_df = pd.DataFrame(full_dataset.isna().sum())\n",
    "type_df['data_types'] = full_dataset.dtypes\n",
    "type_df"
   ]
  },
  {
   "cell_type": "code",
   "execution_count": 160,
   "metadata": {},
   "outputs": [],
   "source": [
    "# Now let's apply column transformer to each column\n",
    "# We have to much unique variables for each categorical column, so we will apply label encoding.\n",
    "\n",
    "from sklearn.impute import SimpleImputer\n",
    "from sklearn.compose import ColumnTransformer\n",
    "from sklearn.preprocessing import StandardScaler\n",
    "from sklearn.pipeline import make_pipeline, Pipeline\n",
    "\n",
    "categ_columns = list(full_dataset.dtypes[full_dataset.dtypes == 'object'].index)\n",
    "int_columns = ['year', 'duration']\n",
    "\n",
    "categ_pipe = make_pipeline(SimpleImputer(strategy='most_frequent'))\n",
    "int_pipe = make_pipeline(StandardScaler())\n",
    "\n",
    "column_transformer = ColumnTransformer([\n",
    "    ('categ', categ_pipe, categ_columns),\n",
    "    ('int', int_pipe, int_columns),\n",
    "], remainder='passthrough')\n",
    "\n",
    "new_data = pd.DataFrame(column_transformer.fit_transform(full_dataset))"
   ]
  },
  {
   "cell_type": "code",
   "execution_count": 161,
   "metadata": {},
   "outputs": [
    {
     "data": {
      "text/html": [
       "<div>\n",
       "<style scoped>\n",
       "    .dataframe tbody tr th:only-of-type {\n",
       "        vertical-align: middle;\n",
       "    }\n",
       "\n",
       "    .dataframe tbody tr th {\n",
       "        vertical-align: top;\n",
       "    }\n",
       "\n",
       "    .dataframe thead th {\n",
       "        text-align: right;\n",
       "    }\n",
       "</style>\n",
       "<table border=\"1\" class=\"dataframe\">\n",
       "  <thead>\n",
       "    <tr style=\"text-align: right;\">\n",
       "      <th></th>\n",
       "      <th>0</th>\n",
       "      <th>1</th>\n",
       "      <th>2</th>\n",
       "      <th>3</th>\n",
       "      <th>4</th>\n",
       "      <th>5</th>\n",
       "      <th>6</th>\n",
       "      <th>7</th>\n",
       "      <th>8</th>\n",
       "      <th>9</th>\n",
       "      <th>...</th>\n",
       "      <th>22</th>\n",
       "      <th>23</th>\n",
       "      <th>24</th>\n",
       "      <th>25</th>\n",
       "      <th>26</th>\n",
       "      <th>27</th>\n",
       "      <th>28</th>\n",
       "      <th>29</th>\n",
       "      <th>30</th>\n",
       "      <th>31</th>\n",
       "    </tr>\n",
       "  </thead>\n",
       "  <tbody>\n",
       "    <tr>\n",
       "      <th>0</th>\n",
       "      <td>7</td>\n",
       "      <td>373</td>\n",
       "      <td>3004</td>\n",
       "      <td>4323</td>\n",
       "      <td>11443</td>\n",
       "      <td>-3.40264</td>\n",
       "      <td>-1.30729</td>\n",
       "      <td>6.1</td>\n",
       "      <td>0</td>\n",
       "      <td>1</td>\n",
       "      <td>...</td>\n",
       "      <td>0</td>\n",
       "      <td>0</td>\n",
       "      <td>0</td>\n",
       "      <td>0</td>\n",
       "      <td>0</td>\n",
       "      <td>1</td>\n",
       "      <td>0</td>\n",
       "      <td>0</td>\n",
       "      <td>0</td>\n",
       "      <td>0</td>\n",
       "    </tr>\n",
       "    <tr>\n",
       "      <th>1</th>\n",
       "      <td>44</td>\n",
       "      <td>373</td>\n",
       "      <td>19814</td>\n",
       "      <td>28361</td>\n",
       "      <td>8989</td>\n",
       "      <td>-3.18812</td>\n",
       "      <td>-2.05444</td>\n",
       "      <td>5.9</td>\n",
       "      <td>0</td>\n",
       "      <td>1</td>\n",
       "      <td>...</td>\n",
       "      <td>0</td>\n",
       "      <td>0</td>\n",
       "      <td>0</td>\n",
       "      <td>0</td>\n",
       "      <td>0</td>\n",
       "      <td>0</td>\n",
       "      <td>0</td>\n",
       "      <td>0</td>\n",
       "      <td>0</td>\n",
       "      <td>0</td>\n",
       "    </tr>\n",
       "    <tr>\n",
       "      <th>2</th>\n",
       "      <td>129</td>\n",
       "      <td>373</td>\n",
       "      <td>2969</td>\n",
       "      <td>28636</td>\n",
       "      <td>10388</td>\n",
       "      <td>-3.14521</td>\n",
       "      <td>0.011215</td>\n",
       "      <td>5.2</td>\n",
       "      <td>0</td>\n",
       "      <td>1</td>\n",
       "      <td>...</td>\n",
       "      <td>0</td>\n",
       "      <td>0</td>\n",
       "      <td>0</td>\n",
       "      <td>0</td>\n",
       "      <td>0</td>\n",
       "      <td>0</td>\n",
       "      <td>0</td>\n",
       "      <td>0</td>\n",
       "      <td>0</td>\n",
       "      <td>0</td>\n",
       "    </tr>\n",
       "  </tbody>\n",
       "</table>\n",
       "<p>3 rows × 32 columns</p>\n",
       "</div>"
      ],
      "text/plain": [
       "    0    1      2      3      4        5         6    7  8  9   ... 22 23 24  \\\n",
       "0    7  373   3004   4323  11443 -3.40264  -1.30729  6.1  0  1  ...  0  0  0   \n",
       "1   44  373  19814  28361   8989 -3.18812  -2.05444  5.9  0  1  ...  0  0  0   \n",
       "2  129  373   2969  28636  10388 -3.14521  0.011215  5.2  0  1  ...  0  0  0   \n",
       "\n",
       "  25 26 27 28 29 30 31  \n",
       "0  0  0  1  0  0  0  0  \n",
       "1  0  0  0  0  0  0  0  \n",
       "2  0  0  0  0  0  0  0  \n",
       "\n",
       "[3 rows x 32 columns]"
      ]
     },
     "execution_count": 161,
     "metadata": {},
     "output_type": "execute_result"
    }
   ],
   "source": [
    "# Now let's apply label encoding to categorcal features (label encoding didn't work inside pipeline)\n",
    "def label_enc(df):\n",
    "    for i in range(5):\n",
    "        df[i] = le.fit_transform(df[i])\n",
    "    return df\n",
    "\n",
    "new_data = label_enc(new_data)\n",
    "new_data.head(3)"
   ]
  },
  {
   "cell_type": "code",
   "execution_count": 162,
   "metadata": {},
   "outputs": [],
   "source": [
    "# We couldn't use label encoder in pipeline, thus we have to split again our data after column transformations\n",
    "tr, te = train_test_split(new_data, test_size=0.2, random_state=6)\n",
    "\n",
    "y_train = tr[7]\n",
    "y_test = te[7]\n",
    "X_train = tr.drop([7], axis=1)\n",
    "X_test = te.drop([7], axis=1)"
   ]
  },
  {
   "cell_type": "markdown",
   "metadata": {},
   "source": [
    "### Part 3.\n",
    "\n",
    "Train and compare the models\n",
    "\n",
    "3.1. Select models, you are going to train, select hyperparameters that have to be tunes."
   ]
  },
  {
   "cell_type": "code",
   "execution_count": 163,
   "metadata": {},
   "outputs": [],
   "source": [
    "from sklearn.ensemble import RandomForestRegressor, GradientBoostingRegressor\n",
    "from sklearn.linear_model import LinearRegression, Ridge\n",
    "from sklearn.model_selection import GridSearchCV\n",
    "\n",
    "gb_param_grid = {'gb__n_estimators': [40, 80],\n",
    "                 'gb__learning_rate' : [0.15],                 \n",
    "                 'gb__min_samples_leaf': [3]\n",
    "                }\n",
    "\n",
    "rf_param_grid = {'rf__n_estimators': [40, 80],\n",
    "                 'rf__min_samples_leaf': [3]\n",
    "                }\n",
    "\n",
    "lr_param_grid = {}\n",
    "ridge_param_grid = {\"ridge__alpha\": [0.1, 1, 2]}\n",
    "\n",
    "gb_pipe = Pipeline([('gb', GradientBoostingRegressor())])\n",
    "rf_pipe = Pipeline([('rf', RandomForestRegressor())])\n",
    "lr_pipe = Pipeline([('lr', LinearRegression())])\n",
    "ridge_pipe = Pipeline([('ridge', Ridge())])"
   ]
  },
  {
   "cell_type": "markdown",
   "metadata": {},
   "source": [
    "3.2 Use cross-validation to compare models and select best set of hyperparameters"
   ]
  },
  {
   "cell_type": "code",
   "execution_count": 164,
   "metadata": {},
   "outputs": [
    {
     "name": "stdout",
     "output_type": "stream",
     "text": [
      "Fitting 5 folds for each of 2 candidates, totalling 10 fits\n",
      "[CV] gb__learning_rate=0.15, gb__min_samples_leaf=3, gb__n_estimators=40 \n"
     ]
    },
    {
     "name": "stderr",
     "output_type": "stream",
     "text": [
      "[Parallel(n_jobs=1)]: Using backend SequentialBackend with 1 concurrent workers.\n"
     ]
    },
    {
     "name": "stdout",
     "output_type": "stream",
     "text": [
      "[CV]  gb__learning_rate=0.15, gb__min_samples_leaf=3, gb__n_estimators=40, score=-0.955, total=   2.6s\n",
      "[CV] gb__learning_rate=0.15, gb__min_samples_leaf=3, gb__n_estimators=40 \n"
     ]
    },
    {
     "name": "stderr",
     "output_type": "stream",
     "text": [
      "[Parallel(n_jobs=1)]: Done   1 out of   1 | elapsed:    2.6s remaining:    0.0s\n"
     ]
    },
    {
     "name": "stdout",
     "output_type": "stream",
     "text": [
      "[CV]  gb__learning_rate=0.15, gb__min_samples_leaf=3, gb__n_estimators=40, score=-0.950, total=   2.6s\n",
      "[CV] gb__learning_rate=0.15, gb__min_samples_leaf=3, gb__n_estimators=40 \n"
     ]
    },
    {
     "name": "stderr",
     "output_type": "stream",
     "text": [
      "[Parallel(n_jobs=1)]: Done   2 out of   2 | elapsed:    5.2s remaining:    0.0s\n"
     ]
    },
    {
     "name": "stdout",
     "output_type": "stream",
     "text": [
      "[CV]  gb__learning_rate=0.15, gb__min_samples_leaf=3, gb__n_estimators=40, score=-0.960, total=   2.6s\n",
      "[CV] gb__learning_rate=0.15, gb__min_samples_leaf=3, gb__n_estimators=40 \n",
      "[CV]  gb__learning_rate=0.15, gb__min_samples_leaf=3, gb__n_estimators=40, score=-0.962, total=   2.6s\n",
      "[CV] gb__learning_rate=0.15, gb__min_samples_leaf=3, gb__n_estimators=40 \n",
      "[CV]  gb__learning_rate=0.15, gb__min_samples_leaf=3, gb__n_estimators=40, score=-0.956, total=   2.6s\n",
      "[CV] gb__learning_rate=0.15, gb__min_samples_leaf=3, gb__n_estimators=80 \n",
      "[CV]  gb__learning_rate=0.15, gb__min_samples_leaf=3, gb__n_estimators=80, score=-0.941, total=   4.9s\n",
      "[CV] gb__learning_rate=0.15, gb__min_samples_leaf=3, gb__n_estimators=80 \n",
      "[CV]  gb__learning_rate=0.15, gb__min_samples_leaf=3, gb__n_estimators=80, score=-0.933, total=   5.0s\n",
      "[CV] gb__learning_rate=0.15, gb__min_samples_leaf=3, gb__n_estimators=80 \n",
      "[CV]  gb__learning_rate=0.15, gb__min_samples_leaf=3, gb__n_estimators=80, score=-0.946, total=   4.9s\n",
      "[CV] gb__learning_rate=0.15, gb__min_samples_leaf=3, gb__n_estimators=80 \n",
      "[CV]  gb__learning_rate=0.15, gb__min_samples_leaf=3, gb__n_estimators=80, score=-0.948, total=   4.9s\n",
      "[CV] gb__learning_rate=0.15, gb__min_samples_leaf=3, gb__n_estimators=80 \n",
      "[CV]  gb__learning_rate=0.15, gb__min_samples_leaf=3, gb__n_estimators=80, score=-0.942, total=   5.0s\n"
     ]
    },
    {
     "name": "stderr",
     "output_type": "stream",
     "text": [
      "[Parallel(n_jobs=1)]: Done  10 out of  10 | elapsed:   37.7s finished\n"
     ]
    }
   ],
   "source": [
    "gb_grid_model = GridSearchCV(gb_pipe, param_grid=gb_param_grid, cv=5, scoring='neg_root_mean_squared_error', verbose=3)\n",
    "gb_grid_model.fit(X_train, y_train)\n",
    "best_gb_model = gb_grid_model.best_estimator_.fit(X_train, y_train)"
   ]
  },
  {
   "cell_type": "code",
   "execution_count": 165,
   "metadata": {},
   "outputs": [
    {
     "name": "stdout",
     "output_type": "stream",
     "text": [
      "Fitting 5 folds for each of 2 candidates, totalling 10 fits\n",
      "[CV] rf__min_samples_leaf=3, rf__n_estimators=40 .....................\n"
     ]
    },
    {
     "name": "stderr",
     "output_type": "stream",
     "text": [
      "[Parallel(n_jobs=1)]: Using backend SequentialBackend with 1 concurrent workers.\n"
     ]
    },
    {
     "name": "stdout",
     "output_type": "stream",
     "text": [
      "[CV]  rf__min_samples_leaf=3, rf__n_estimators=40, score=-0.915, total=   7.8s\n",
      "[CV] rf__min_samples_leaf=3, rf__n_estimators=40 .....................\n"
     ]
    },
    {
     "name": "stderr",
     "output_type": "stream",
     "text": [
      "[Parallel(n_jobs=1)]: Done   1 out of   1 | elapsed:    7.8s remaining:    0.0s\n"
     ]
    },
    {
     "name": "stdout",
     "output_type": "stream",
     "text": [
      "[CV]  rf__min_samples_leaf=3, rf__n_estimators=40, score=-0.925, total=   7.7s\n",
      "[CV] rf__min_samples_leaf=3, rf__n_estimators=40 .....................\n"
     ]
    },
    {
     "name": "stderr",
     "output_type": "stream",
     "text": [
      "[Parallel(n_jobs=1)]: Done   2 out of   2 | elapsed:   15.6s remaining:    0.0s\n"
     ]
    },
    {
     "name": "stdout",
     "output_type": "stream",
     "text": [
      "[CV]  rf__min_samples_leaf=3, rf__n_estimators=40, score=-0.924, total=   7.7s\n",
      "[CV] rf__min_samples_leaf=3, rf__n_estimators=40 .....................\n",
      "[CV]  rf__min_samples_leaf=3, rf__n_estimators=40, score=-0.925, total=   7.7s\n",
      "[CV] rf__min_samples_leaf=3, rf__n_estimators=40 .....................\n",
      "[CV]  rf__min_samples_leaf=3, rf__n_estimators=40, score=-0.920, total=   7.7s\n",
      "[CV] rf__min_samples_leaf=3, rf__n_estimators=80 .....................\n",
      "[CV]  rf__min_samples_leaf=3, rf__n_estimators=80, score=-0.912, total=  15.4s\n",
      "[CV] rf__min_samples_leaf=3, rf__n_estimators=80 .....................\n",
      "[CV]  rf__min_samples_leaf=3, rf__n_estimators=80, score=-0.919, total=  15.2s\n",
      "[CV] rf__min_samples_leaf=3, rf__n_estimators=80 .....................\n",
      "[CV]  rf__min_samples_leaf=3, rf__n_estimators=80, score=-0.922, total=  15.2s\n",
      "[CV] rf__min_samples_leaf=3, rf__n_estimators=80 .....................\n",
      "[CV]  rf__min_samples_leaf=3, rf__n_estimators=80, score=-0.921, total=  15.4s\n",
      "[CV] rf__min_samples_leaf=3, rf__n_estimators=80 .....................\n",
      "[CV]  rf__min_samples_leaf=3, rf__n_estimators=80, score=-0.915, total=  15.3s\n"
     ]
    },
    {
     "name": "stderr",
     "output_type": "stream",
     "text": [
      "[Parallel(n_jobs=1)]: Done  10 out of  10 | elapsed:  1.9min finished\n"
     ]
    }
   ],
   "source": [
    "rf_grid_model = GridSearchCV(rf_pipe, param_grid=rf_param_grid, cv=5, scoring='neg_root_mean_squared_error', verbose=3)\n",
    "rf_grid_model.fit(X_train, y_train)\n",
    "best_rf_model = rf_grid_model.best_estimator_.fit(X_train, y_train)"
   ]
  },
  {
   "cell_type": "code",
   "execution_count": 166,
   "metadata": {},
   "outputs": [
    {
     "name": "stdout",
     "output_type": "stream",
     "text": [
      "Fitting 5 folds for each of 1 candidates, totalling 5 fits\n",
      "[CV]  ................................................................\n"
     ]
    },
    {
     "name": "stderr",
     "output_type": "stream",
     "text": [
      "[Parallel(n_jobs=1)]: Using backend SequentialBackend with 1 concurrent workers.\n"
     ]
    },
    {
     "name": "stdout",
     "output_type": "stream",
     "text": [
      "[CV] ................................... , score=-1.009, total=   0.3s\n",
      "[CV]  ................................................................\n"
     ]
    },
    {
     "name": "stderr",
     "output_type": "stream",
     "text": [
      "[Parallel(n_jobs=1)]: Done   1 out of   1 | elapsed:    0.5s remaining:    0.0s\n"
     ]
    },
    {
     "name": "stdout",
     "output_type": "stream",
     "text": [
      "[CV] ................................... , score=-1.011, total=   0.5s\n",
      "[CV]  ................................................................\n"
     ]
    },
    {
     "name": "stderr",
     "output_type": "stream",
     "text": [
      "[Parallel(n_jobs=1)]: Done   2 out of   2 | elapsed:    1.1s remaining:    0.0s\n"
     ]
    },
    {
     "name": "stdout",
     "output_type": "stream",
     "text": [
      "[CV] ................................... , score=-1.010, total=   0.4s\n",
      "[CV]  ................................................................\n",
      "[CV] ................................... , score=-1.018, total=   0.4s\n",
      "[CV]  ................................................................\n",
      "[CV] ................................... , score=-1.011, total=   0.5s\n"
     ]
    },
    {
     "name": "stderr",
     "output_type": "stream",
     "text": [
      "[Parallel(n_jobs=1)]: Done   5 out of   5 | elapsed:    2.8s finished\n"
     ]
    }
   ],
   "source": [
    "lr_grid_model = GridSearchCV(lr_pipe, param_grid=lr_param_grid, cv=5, scoring='neg_root_mean_squared_error', verbose=3)\n",
    "lr_grid_model.fit(X_train, y_train)\n",
    "best_lr_model = lr_grid_model.best_estimator_.fit(X_train, y_train)"
   ]
  },
  {
   "cell_type": "code",
   "execution_count": 167,
   "metadata": {},
   "outputs": [
    {
     "name": "stdout",
     "output_type": "stream",
     "text": [
      "Fitting 5 folds for each of 3 candidates, totalling 15 fits\n",
      "[CV] ridge__alpha=0.1 ................................................\n"
     ]
    },
    {
     "name": "stderr",
     "output_type": "stream",
     "text": [
      "[Parallel(n_jobs=1)]: Using backend SequentialBackend with 1 concurrent workers.\n"
     ]
    },
    {
     "name": "stdout",
     "output_type": "stream",
     "text": [
      "[CV] ................... ridge__alpha=0.1, score=-1.009, total=   0.6s\n",
      "[CV] ridge__alpha=0.1 ................................................\n"
     ]
    },
    {
     "name": "stderr",
     "output_type": "stream",
     "text": [
      "[Parallel(n_jobs=1)]: Done   1 out of   1 | elapsed:    0.6s remaining:    0.0s\n"
     ]
    },
    {
     "name": "stdout",
     "output_type": "stream",
     "text": [
      "[CV] ................... ridge__alpha=0.1, score=-1.011, total=   0.6s\n",
      "[CV] ridge__alpha=0.1 ................................................\n"
     ]
    },
    {
     "name": "stderr",
     "output_type": "stream",
     "text": [
      "[Parallel(n_jobs=1)]: Done   2 out of   2 | elapsed:    1.2s remaining:    0.0s\n"
     ]
    },
    {
     "name": "stdout",
     "output_type": "stream",
     "text": [
      "[CV] ................... ridge__alpha=0.1, score=-1.010, total=   0.6s\n",
      "[CV] ridge__alpha=0.1 ................................................\n",
      "[CV] ................... ridge__alpha=0.1, score=-1.018, total=   0.6s\n",
      "[CV] ridge__alpha=0.1 ................................................\n",
      "[CV] ................... ridge__alpha=0.1, score=-1.011, total=   0.5s\n",
      "[CV] ridge__alpha=1 ..................................................\n",
      "[CV] ..................... ridge__alpha=1, score=-1.009, total=   0.4s\n",
      "[CV] ridge__alpha=1 ..................................................\n",
      "[CV] ..................... ridge__alpha=1, score=-1.011, total=   0.4s\n",
      "[CV] ridge__alpha=1 ..................................................\n",
      "[CV] ..................... ridge__alpha=1, score=-1.010, total=   0.4s\n",
      "[CV] ridge__alpha=1 ..................................................\n",
      "[CV] ..................... ridge__alpha=1, score=-1.017, total=   0.3s\n",
      "[CV] ridge__alpha=1 ..................................................\n",
      "[CV] ..................... ridge__alpha=1, score=-1.011, total=   0.3s\n",
      "[CV] ridge__alpha=2 ..................................................\n",
      "[CV] ..................... ridge__alpha=2, score=-1.009, total=   0.4s\n",
      "[CV] ridge__alpha=2 ..................................................\n",
      "[CV] ..................... ridge__alpha=2, score=-1.011, total=   0.3s\n",
      "[CV] ridge__alpha=2 ..................................................\n",
      "[CV] ..................... ridge__alpha=2, score=-1.010, total=   0.5s\n",
      "[CV] ridge__alpha=2 ..................................................\n",
      "[CV] ..................... ridge__alpha=2, score=-1.017, total=   0.6s\n",
      "[CV] ridge__alpha=2 ..................................................\n",
      "[CV] ..................... ridge__alpha=2, score=-1.011, total=   0.6s\n"
     ]
    },
    {
     "name": "stderr",
     "output_type": "stream",
     "text": [
      "[Parallel(n_jobs=1)]: Done  15 out of  15 | elapsed:    8.3s finished\n"
     ]
    }
   ],
   "source": [
    "ridge_grid_model = GridSearchCV(ridge_pipe, param_grid=ridge_param_grid, cv=5, scoring='neg_root_mean_squared_error', verbose=3)\n",
    "ridge_grid_model.fit(X_train, y_train)\n",
    "best_ridge_model = ridge_grid_model.best_estimator_.fit(X_train, y_train)"
   ]
  },
  {
   "cell_type": "code",
   "execution_count": 168,
   "metadata": {},
   "outputs": [
    {
     "name": "stdout",
     "output_type": "stream",
     "text": [
      "-0.9420115094051631 Pipeline(memory=None,\n",
      "         steps=[('gb',\n",
      "                 GradientBoostingRegressor(alpha=0.9, ccp_alpha=0.0,\n",
      "                                           criterion='friedman_mse', init=None,\n",
      "                                           learning_rate=0.15, loss='ls',\n",
      "                                           max_depth=3, max_features=None,\n",
      "                                           max_leaf_nodes=None,\n",
      "                                           min_impurity_decrease=0.0,\n",
      "                                           min_impurity_split=None,\n",
      "                                           min_samples_leaf=3,\n",
      "                                           min_samples_split=2,\n",
      "                                           min_weight_fraction_leaf=0.0,\n",
      "                                           n_estimators=80,\n",
      "                                           n_iter_no_change=None,\n",
      "                                           presort='deprecated',\n",
      "                                           random_state=None, subsample=1.0,\n",
      "                                           tol=0.0001, validation_fraction=0.1,\n",
      "                                           verbose=0, warm_start=False))],\n",
      "         verbose=False) \n",
      " -0.9178588159225717 Pipeline(memory=None,\n",
      "         steps=[('rf',\n",
      "                 RandomForestRegressor(bootstrap=True, ccp_alpha=0.0,\n",
      "                                       criterion='mse', max_depth=None,\n",
      "                                       max_features='auto', max_leaf_nodes=None,\n",
      "                                       max_samples=None,\n",
      "                                       min_impurity_decrease=0.0,\n",
      "                                       min_impurity_split=None,\n",
      "                                       min_samples_leaf=3, min_samples_split=2,\n",
      "                                       min_weight_fraction_leaf=0.0,\n",
      "                                       n_estimators=80, n_jobs=None,\n",
      "                                       oob_score=False, random_state=None,\n",
      "                                       verbose=0, warm_start=False))],\n",
      "         verbose=False) \n",
      " -1.0118098874572636 Pipeline(memory=None,\n",
      "         steps=[('lr',\n",
      "                 LinearRegression(copy_X=True, fit_intercept=True, n_jobs=None,\n",
      "                                  normalize=False))],\n",
      "         verbose=False) \n",
      " -1.011554685956464 Pipeline(memory=None,\n",
      "         steps=[('ridge',\n",
      "                 Ridge(alpha=2, copy_X=True, fit_intercept=True, max_iter=None,\n",
      "                       normalize=False, random_state=None, solver='auto',\n",
      "                       tol=0.001))],\n",
      "         verbose=False)\n"
     ]
    }
   ],
   "source": [
    "print(gb_grid_model.best_score_, gb_grid_model.best_estimator_, '\\n',\n",
    "      rf_grid_model.best_score_, rf_grid_model.best_estimator_, '\\n',\n",
    "      lr_grid_model.best_score_, lr_grid_model.best_estimator_, '\\n',\n",
    "      ridge_grid_model.best_score_, ridge_grid_model.best_estimator_\n",
    "     )"
   ]
  },
  {
   "cell_type": "markdown",
   "metadata": {},
   "source": [
    "3.3 Which model and setup is the best? How does it perform on the test dataset? If you were to present this model to the client, how would you describe it?"
   ]
  },
  {
   "cell_type": "markdown",
   "metadata": {},
   "source": [
    "**Answer.** Random Forest Regressor has minimal error -0.918 and provides the best predicition for movie_rating.\n",
    "\n",
    "We can provide the client with following explanation. We made machine learning model that predicts the movie_rating within the following range (predicted rating - 2 * 0.915, predicted rating + 2 * 0.915) with probability 95% (assuming that client is satisfied with confidence interval of 95%)."
   ]
  },
  {
   "cell_type": "code",
   "execution_count": null,
   "metadata": {},
   "outputs": [],
   "source": []
  }
 ],
 "metadata": {
  "kernelspec": {
   "display_name": "Python 3",
   "language": "python",
   "name": "python3"
  },
  "language_info": {
   "codemirror_mode": {
    "name": "ipython",
    "version": 3
   },
   "file_extension": ".py",
   "mimetype": "text/x-python",
   "name": "python",
   "nbconvert_exporter": "python",
   "pygments_lexer": "ipython3",
   "version": "3.8.5"
  }
 },
 "nbformat": 4,
 "nbformat_minor": 4
}
